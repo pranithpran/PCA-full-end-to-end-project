{
 "cells": [
  {
   "cell_type": "code",
   "execution_count": 4,
   "metadata": {},
   "outputs": [],
   "source": [
    "import numpy as np\n",
    "import matplotlib.pyplot as plt\n",
    "from sklearn.decomposition import PCA\n",
    "from skimage import io,color\n",
    "from skimage.util import img_as_ubyte\n",
    "def compression(img):\n",
    "    gray_image=color.rgb2gray(img)\n",
    "    flaten_img=gray_image.reshape(gray_image.shape[0],-1)\n",
    "    pc=PCA(n_components=0.97)\n",
    "    compressed_data=pc.fit_transform(flaten_img)\n",
    "    reconstructured_image=pc.inverse_transform(compressed_data)\n",
    "    compressed_data_normalize=((reconstructured_image)-(reconstructured_image.min()))/((reconstructured_image.max())-(reconstructured_image.min()))\n",
    "    convert_img_bit=img_as_ubyte(compressed_data_normalize)\n",
    "    io.imsave(\"compressed_img6.jpg\",convert_img_bit)\n",
    "img=io.imread(\"car.jpg\")\n",
    "compression(img)"
   ]
  },
  {
   "cell_type": "code",
   "execution_count": null,
   "metadata": {},
   "outputs": [],
   "source": []
  }
 ],
 "metadata": {
  "kernelspec": {
   "display_name": "base",
   "language": "python",
   "name": "python3"
  },
  "language_info": {
   "codemirror_mode": {
    "name": "ipython",
    "version": 3
   },
   "file_extension": ".py",
   "mimetype": "text/x-python",
   "name": "python",
   "nbconvert_exporter": "python",
   "pygments_lexer": "ipython3",
   "version": "3.12.7"
  }
 },
 "nbformat": 4,
 "nbformat_minor": 2
}
